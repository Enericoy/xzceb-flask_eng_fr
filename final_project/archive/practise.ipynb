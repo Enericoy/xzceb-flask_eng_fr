{
 "cells": [
  {
   "cell_type": "code",
   "execution_count": null,
   "metadata": {},
   "outputs": [],
   "source": []
  },
  {
   "cell_type": "markdown",
   "metadata": {},
   "source": [
    "Import modules "
   ]
  },
  {
   "cell_type": "code",
   "execution_count": 1,
   "metadata": {},
   "outputs": [
    {
     "data": {
      "text/plain": [
       "True"
      ]
     },
     "execution_count": 1,
     "metadata": {},
     "output_type": "execute_result"
    }
   ],
   "source": [
    "import json\n",
    "from ibm_watson import LanguageTranslatorV3\n",
    "from ibm_cloud_sdk_core.authenticators import IAMAuthenticator\n",
    "import os\n",
    "from dotenv import load_dotenv\n",
    "\n",
    "load_dotenv()"
   ]
  },
  {
   "cell_type": "markdown",
   "metadata": {},
   "source": [
    "Load in API "
   ]
  },
  {
   "cell_type": "code",
   "execution_count": 2,
   "metadata": {},
   "outputs": [],
   "source": [
    "apikey = os.environ['apikey']\n",
    "url = os.environ['url']"
   ]
  },
  {
   "cell_type": "code",
   "execution_count": 3,
   "metadata": {},
   "outputs": [],
   "source": [
    "authenticator = IAMAuthenticator(apikey)\n",
    "language_translator = LanguageTranslatorV3(\n",
    "    version='2018-05-01',\n",
    "    authenticator=authenticator\n",
    ")\n",
    "\n",
    "language_translator.set_service_url(url)"
   ]
  },
  {
   "cell_type": "markdown",
   "metadata": {},
   "source": [
    "Run Translation"
   ]
  },
  {
   "cell_type": "code",
   "execution_count": 25,
   "metadata": {},
   "outputs": [
    {
     "name": "stdout",
     "output_type": "stream",
     "text": [
      "en\n",
      "the language is English\n"
     ]
    }
   ],
   "source": [
    "text_to_translate='Hello, how are you today?'\n",
    "#text_to_translate=\"Hola, ¿cómo estás hoy?\"\n",
    "\n",
    "#check language\n",
    "language = language_translator.identify(\n",
    "    text_to_translate).get_result()\n",
    "#print(json.dumps(language, indent=2))\n",
    "\n",
    "detected_language=language['languages'][0]['language']\n",
    "print(detected_language)\n",
    "\n",
    "if detected_language==\"es\" :\n",
    "    print('the language is Spanish')\n",
    "elif detected_language==\"en\":\n",
    "    print('the language is English')"
   ]
  },
  {
   "cell_type": "code",
   "execution_count": 21,
   "metadata": {},
   "outputs": [
    {
     "name": "stdout",
     "output_type": "stream",
     "text": [
      "en\n"
     ]
    }
   ],
   "source": [
    "print(language['languages'][0]['language'])"
   ]
  },
  {
   "cell_type": "code",
   "execution_count": 19,
   "metadata": {},
   "outputs": [],
   "source": [
    "translation = language_translator.translate(\n",
    "    text=text_to_translate,\n",
    "    model_id='en-es').get_result()\n",
    "\n",
    "json_response=json.dumps(translation, indent=2, ensure_ascii=False)"
   ]
  },
  {
   "cell_type": "code",
   "execution_count": 20,
   "metadata": {},
   "outputs": [
    {
     "name": "stdout",
     "output_type": "stream",
     "text": [
      "Hola, ¿cómo estás hoy?\n"
     ]
    }
   ],
   "source": [
    "print(translation['translations'][0]['translation'])\n",
    "#print(type(translation))"
   ]
  }
 ],
 "metadata": {
  "interpreter": {
   "hash": "eb2d0ac1467866ef22949f734ad8e090e198ea4875d8b3d76ad7383ae2fd5bdc"
  },
  "kernelspec": {
   "display_name": "Python 3.8.3 32-bit",
   "language": "python",
   "name": "python3"
  },
  "language_info": {
   "codemirror_mode": {
    "name": "ipython",
    "version": 3
   },
   "file_extension": ".py",
   "mimetype": "text/x-python",
   "name": "python",
   "nbconvert_exporter": "python",
   "pygments_lexer": "ipython3",
   "version": "3.8.3"
  },
  "orig_nbformat": 4
 },
 "nbformat": 4,
 "nbformat_minor": 2
}
